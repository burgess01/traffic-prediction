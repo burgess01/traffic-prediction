{
 "cells": [
  {
   "cell_type": "code",
   "execution_count": null,
   "metadata": {},
   "outputs": [],
   "source": [
    "# imports\n",
    "import pickle\n",
    "import pandas as pd\n",
    "import numpy as np\n",
    "import matplotlib.pyplot as plt\n",
    "from statsmodels.tsa.arima.model import ARIMA\n",
    "from sklearn.metrics import mean_absolute_error, mean_squared_error, r2_score\n"
   ]
  },
  {
   "cell_type": "code",
   "execution_count": null,
   "metadata": {},
   "outputs": [],
   "source": [
    "# Load the training data from the pickle files\n",
    "with open('tra_X_tr.pkl', 'rb') as f:\n",
    "    tra_X_tr = pickle.load(f)\n",
    "with open('tra_Y_tr.pkl', 'rb') as f:\n",
    "    tra_Y_tr = pickle.load(f)\n",
    "\n",
    "# Convert data to pandas DataFrame for easier manipulation\n",
    "df_tra_X_tr = pd.DataFrame(tra_X_tr[0][0].toarray()) # Convert sparse matrix to dense\n",
    "df_tra_Y_tr = pd.DataFrame(tra_Y_tr[:, 0])  # Assuming target variable\n"
   ]
  },
  {
   "cell_type": "code",
   "execution_count": null,
   "metadata": {},
   "outputs": [],
   "source": [
    "# Feature Engineering\n",
    "# I am using rolling averages for the 10 locations\n",
    "rolling_window_size = 4  # Rolling average over 4 intervals (as an example)\n",
    "for i in range(10):  \n",
    "    df_tra_X_tr[f'rolling_mean_loc{i+1}'] = df_tra_X_tr.iloc[:, i].rolling(window=rolling_window_size).mean()\n",
    "\n",
    "# Fill any NaN values resulting from the rolling operation\n",
    "df_tra_X_tr.fillna(method='bfill', inplace=True)"
   ]
  }
 ],
 "metadata": {
  "language_info": {
   "name": "python"
  }
 },
 "nbformat": 4,
 "nbformat_minor": 2
}
